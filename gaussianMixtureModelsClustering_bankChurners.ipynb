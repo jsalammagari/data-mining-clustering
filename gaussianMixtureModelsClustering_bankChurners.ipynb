{
  "nbformat": 4,
  "nbformat_minor": 0,
  "metadata": {
    "colab": {
      "provenance": []
    },
    "kernelspec": {
      "name": "python3",
      "display_name": "Python 3"
    },
    "language_info": {
      "name": "python"
    }
  },
  "cells": [
    {
      "cell_type": "markdown",
      "source": [
        "**Gaussian mixture models clustering (not from scratch) - Predicting Credit Card Customer Segmentation**"
      ],
      "metadata": {
        "id": "TbFeJEiWv91V"
      }
    },
    {
      "cell_type": "markdown",
      "source": [
        "**Data Loading & Initial Data Exploration**"
      ],
      "metadata": {
        "id": "ocMH1acAtvfP"
      }
    },
    {
      "cell_type": "code",
      "execution_count": null,
      "metadata": {
        "colab": {
          "base_uri": "https://localhost:8080/",
          "height": 1000
        },
        "id": "FeQhaIUsKvCR",
        "outputId": "ada55794-f9da-4d73-e0a7-feeb70a48fab"
      },
      "outputs": [
        {
          "output_type": "display_data",
          "data": {
            "text/plain": [
              "<IPython.core.display.HTML object>"
            ],
            "text/html": [
              "\n",
              "     <input type=\"file\" id=\"files-717a146d-1cd7-49c8-859a-d3e9d627a5fa\" name=\"files[]\" multiple disabled\n",
              "        style=\"border:none\" />\n",
              "     <output id=\"result-717a146d-1cd7-49c8-859a-d3e9d627a5fa\">\n",
              "      Upload widget is only available when the cell has been executed in the\n",
              "      current browser session. Please rerun this cell to enable.\n",
              "      </output>\n",
              "      <script>// Copyright 2017 Google LLC\n",
              "//\n",
              "// Licensed under the Apache License, Version 2.0 (the \"License\");\n",
              "// you may not use this file except in compliance with the License.\n",
              "// You may obtain a copy of the License at\n",
              "//\n",
              "//      http://www.apache.org/licenses/LICENSE-2.0\n",
              "//\n",
              "// Unless required by applicable law or agreed to in writing, software\n",
              "// distributed under the License is distributed on an \"AS IS\" BASIS,\n",
              "// WITHOUT WARRANTIES OR CONDITIONS OF ANY KIND, either express or implied.\n",
              "// See the License for the specific language governing permissions and\n",
              "// limitations under the License.\n",
              "\n",
              "/**\n",
              " * @fileoverview Helpers for google.colab Python module.\n",
              " */\n",
              "(function(scope) {\n",
              "function span(text, styleAttributes = {}) {\n",
              "  const element = document.createElement('span');\n",
              "  element.textContent = text;\n",
              "  for (const key of Object.keys(styleAttributes)) {\n",
              "    element.style[key] = styleAttributes[key];\n",
              "  }\n",
              "  return element;\n",
              "}\n",
              "\n",
              "// Max number of bytes which will be uploaded at a time.\n",
              "const MAX_PAYLOAD_SIZE = 100 * 1024;\n",
              "\n",
              "function _uploadFiles(inputId, outputId) {\n",
              "  const steps = uploadFilesStep(inputId, outputId);\n",
              "  const outputElement = document.getElementById(outputId);\n",
              "  // Cache steps on the outputElement to make it available for the next call\n",
              "  // to uploadFilesContinue from Python.\n",
              "  outputElement.steps = steps;\n",
              "\n",
              "  return _uploadFilesContinue(outputId);\n",
              "}\n",
              "\n",
              "// This is roughly an async generator (not supported in the browser yet),\n",
              "// where there are multiple asynchronous steps and the Python side is going\n",
              "// to poll for completion of each step.\n",
              "// This uses a Promise to block the python side on completion of each step,\n",
              "// then passes the result of the previous step as the input to the next step.\n",
              "function _uploadFilesContinue(outputId) {\n",
              "  const outputElement = document.getElementById(outputId);\n",
              "  const steps = outputElement.steps;\n",
              "\n",
              "  const next = steps.next(outputElement.lastPromiseValue);\n",
              "  return Promise.resolve(next.value.promise).then((value) => {\n",
              "    // Cache the last promise value to make it available to the next\n",
              "    // step of the generator.\n",
              "    outputElement.lastPromiseValue = value;\n",
              "    return next.value.response;\n",
              "  });\n",
              "}\n",
              "\n",
              "/**\n",
              " * Generator function which is called between each async step of the upload\n",
              " * process.\n",
              " * @param {string} inputId Element ID of the input file picker element.\n",
              " * @param {string} outputId Element ID of the output display.\n",
              " * @return {!Iterable<!Object>} Iterable of next steps.\n",
              " */\n",
              "function* uploadFilesStep(inputId, outputId) {\n",
              "  const inputElement = document.getElementById(inputId);\n",
              "  inputElement.disabled = false;\n",
              "\n",
              "  const outputElement = document.getElementById(outputId);\n",
              "  outputElement.innerHTML = '';\n",
              "\n",
              "  const pickedPromise = new Promise((resolve) => {\n",
              "    inputElement.addEventListener('change', (e) => {\n",
              "      resolve(e.target.files);\n",
              "    });\n",
              "  });\n",
              "\n",
              "  const cancel = document.createElement('button');\n",
              "  inputElement.parentElement.appendChild(cancel);\n",
              "  cancel.textContent = 'Cancel upload';\n",
              "  const cancelPromise = new Promise((resolve) => {\n",
              "    cancel.onclick = () => {\n",
              "      resolve(null);\n",
              "    };\n",
              "  });\n",
              "\n",
              "  // Wait for the user to pick the files.\n",
              "  const files = yield {\n",
              "    promise: Promise.race([pickedPromise, cancelPromise]),\n",
              "    response: {\n",
              "      action: 'starting',\n",
              "    }\n",
              "  };\n",
              "\n",
              "  cancel.remove();\n",
              "\n",
              "  // Disable the input element since further picks are not allowed.\n",
              "  inputElement.disabled = true;\n",
              "\n",
              "  if (!files) {\n",
              "    return {\n",
              "      response: {\n",
              "        action: 'complete',\n",
              "      }\n",
              "    };\n",
              "  }\n",
              "\n",
              "  for (const file of files) {\n",
              "    const li = document.createElement('li');\n",
              "    li.append(span(file.name, {fontWeight: 'bold'}));\n",
              "    li.append(span(\n",
              "        `(${file.type || 'n/a'}) - ${file.size} bytes, ` +\n",
              "        `last modified: ${\n",
              "            file.lastModifiedDate ? file.lastModifiedDate.toLocaleDateString() :\n",
              "                                    'n/a'} - `));\n",
              "    const percent = span('0% done');\n",
              "    li.appendChild(percent);\n",
              "\n",
              "    outputElement.appendChild(li);\n",
              "\n",
              "    const fileDataPromise = new Promise((resolve) => {\n",
              "      const reader = new FileReader();\n",
              "      reader.onload = (e) => {\n",
              "        resolve(e.target.result);\n",
              "      };\n",
              "      reader.readAsArrayBuffer(file);\n",
              "    });\n",
              "    // Wait for the data to be ready.\n",
              "    let fileData = yield {\n",
              "      promise: fileDataPromise,\n",
              "      response: {\n",
              "        action: 'continue',\n",
              "      }\n",
              "    };\n",
              "\n",
              "    // Use a chunked sending to avoid message size limits. See b/62115660.\n",
              "    let position = 0;\n",
              "    do {\n",
              "      const length = Math.min(fileData.byteLength - position, MAX_PAYLOAD_SIZE);\n",
              "      const chunk = new Uint8Array(fileData, position, length);\n",
              "      position += length;\n",
              "\n",
              "      const base64 = btoa(String.fromCharCode.apply(null, chunk));\n",
              "      yield {\n",
              "        response: {\n",
              "          action: 'append',\n",
              "          file: file.name,\n",
              "          data: base64,\n",
              "        },\n",
              "      };\n",
              "\n",
              "      let percentDone = fileData.byteLength === 0 ?\n",
              "          100 :\n",
              "          Math.round((position / fileData.byteLength) * 100);\n",
              "      percent.textContent = `${percentDone}% done`;\n",
              "\n",
              "    } while (position < fileData.byteLength);\n",
              "  }\n",
              "\n",
              "  // All done.\n",
              "  yield {\n",
              "    response: {\n",
              "      action: 'complete',\n",
              "    }\n",
              "  };\n",
              "}\n",
              "\n",
              "scope.google = scope.google || {};\n",
              "scope.google.colab = scope.google.colab || {};\n",
              "scope.google.colab._files = {\n",
              "  _uploadFiles,\n",
              "  _uploadFilesContinue,\n",
              "};\n",
              "})(self);\n",
              "</script> "
            ]
          },
          "metadata": {}
        },
        {
          "output_type": "stream",
          "name": "stdout",
          "text": [
            "Saving BankChurners.csv to BankChurners.csv\n"
          ]
        },
        {
          "output_type": "execute_result",
          "data": {
            "text/plain": [
              "((10127, 23),\n",
              "    CLIENTNUM     Attrition_Flag  Customer_Age Gender  Dependent_count  \\\n",
              " 0  768805383  Existing Customer            45      M                3   \n",
              " 1  818770008  Existing Customer            49      F                5   \n",
              " 2  713982108  Existing Customer            51      M                3   \n",
              " 3  769911858  Existing Customer            40      F                4   \n",
              " 4  709106358  Existing Customer            40      M                3   \n",
              " \n",
              "   Education_Level Marital_Status Income_Category Card_Category  \\\n",
              " 0     High School        Married     $60K - $80K          Blue   \n",
              " 1        Graduate         Single  Less than $40K          Blue   \n",
              " 2        Graduate        Married    $80K - $120K          Blue   \n",
              " 3     High School        Unknown  Less than $40K          Blue   \n",
              " 4      Uneducated        Married     $60K - $80K          Blue   \n",
              " \n",
              "    Months_on_book  ...  Credit_Limit  Total_Revolving_Bal  Avg_Open_To_Buy  \\\n",
              " 0              39  ...       12691.0                  777          11914.0   \n",
              " 1              44  ...        8256.0                  864           7392.0   \n",
              " 2              36  ...        3418.0                    0           3418.0   \n",
              " 3              34  ...        3313.0                 2517            796.0   \n",
              " 4              21  ...        4716.0                    0           4716.0   \n",
              " \n",
              "    Total_Amt_Chng_Q4_Q1  Total_Trans_Amt  Total_Trans_Ct  Total_Ct_Chng_Q4_Q1  \\\n",
              " 0                 1.335             1144              42                1.625   \n",
              " 1                 1.541             1291              33                3.714   \n",
              " 2                 2.594             1887              20                2.333   \n",
              " 3                 1.405             1171              20                2.333   \n",
              " 4                 2.175              816              28                2.500   \n",
              " \n",
              "    Avg_Utilization_Ratio  \\\n",
              " 0                  0.061   \n",
              " 1                  0.105   \n",
              " 2                  0.000   \n",
              " 3                  0.760   \n",
              " 4                  0.000   \n",
              " \n",
              "    Naive_Bayes_Classifier_Attrition_Flag_Card_Category_Contacts_Count_12_mon_Dependent_count_Education_Level_Months_Inactive_12_mon_1  \\\n",
              " 0                                           0.000093                                                                                    \n",
              " 1                                           0.000057                                                                                    \n",
              " 2                                           0.000021                                                                                    \n",
              " 3                                           0.000134                                                                                    \n",
              " 4                                           0.000022                                                                                    \n",
              " \n",
              "    Naive_Bayes_Classifier_Attrition_Flag_Card_Category_Contacts_Count_12_mon_Dependent_count_Education_Level_Months_Inactive_12_mon_2  \n",
              " 0                                            0.99991                                                                                   \n",
              " 1                                            0.99994                                                                                   \n",
              " 2                                            0.99998                                                                                   \n",
              " 3                                            0.99987                                                                                   \n",
              " 4                                            0.99998                                                                                   \n",
              " \n",
              " [5 rows x 23 columns],\n",
              " CLIENTNUM                                                                                                                               int64\n",
              " Attrition_Flag                                                                                                                         object\n",
              " Customer_Age                                                                                                                            int64\n",
              " Gender                                                                                                                                 object\n",
              " Dependent_count                                                                                                                         int64\n",
              " Education_Level                                                                                                                        object\n",
              " Marital_Status                                                                                                                         object\n",
              " Income_Category                                                                                                                        object\n",
              " Card_Category                                                                                                                          object\n",
              " Months_on_book                                                                                                                          int64\n",
              " Total_Relationship_Count                                                                                                                int64\n",
              " Months_Inactive_12_mon                                                                                                                  int64\n",
              " Contacts_Count_12_mon                                                                                                                   int64\n",
              " Credit_Limit                                                                                                                          float64\n",
              " Total_Revolving_Bal                                                                                                                     int64\n",
              " Avg_Open_To_Buy                                                                                                                       float64\n",
              " Total_Amt_Chng_Q4_Q1                                                                                                                  float64\n",
              " Total_Trans_Amt                                                                                                                         int64\n",
              " Total_Trans_Ct                                                                                                                          int64\n",
              " Total_Ct_Chng_Q4_Q1                                                                                                                   float64\n",
              " Avg_Utilization_Ratio                                                                                                                 float64\n",
              " Naive_Bayes_Classifier_Attrition_Flag_Card_Category_Contacts_Count_12_mon_Dependent_count_Education_Level_Months_Inactive_12_mon_1    float64\n",
              " Naive_Bayes_Classifier_Attrition_Flag_Card_Category_Contacts_Count_12_mon_Dependent_count_Education_Level_Months_Inactive_12_mon_2    float64\n",
              " dtype: object)"
            ]
          },
          "metadata": {},
          "execution_count": 1
        }
      ],
      "source": [
        "import pandas as pd\n",
        "from google.colab import files\n",
        "uploaded = files.upload()\n",
        "# Load the dataset\n",
        "file_path = 'BankChurners.csv'\n",
        "data = pd.read_csv(file_path)\n",
        "\n",
        "# Initial exploration\n",
        "data_shape = data.shape\n",
        "first_five_rows = data.head()\n",
        "data_types = data.dtypes\n",
        "\n",
        "data_shape, first_five_rows, data_types"
      ]
    },
    {
      "cell_type": "markdown",
      "source": [
        "**Data Cleaning and Preprocessing & Descriptive Statistics and Visualization**"
      ],
      "metadata": {
        "id": "ogwtRWjbt0pl"
      }
    },
    {
      "cell_type": "code",
      "source": [
        "# Re-importing necessary libraries due to execution state reset\n",
        "import pandas as pd\n",
        "from sklearn.preprocessing import StandardScaler, OneHotEncoder\n",
        "from sklearn.compose import ColumnTransformer\n",
        "from sklearn.pipeline import Pipeline\n",
        "\n",
        "# Identifying numerical and categorical columns\n",
        "numerical_columns = data.select_dtypes(include=['int64', 'float64']).columns\n",
        "categorical_columns = data.select_dtypes(include=['object']).columns\n",
        "\n",
        "# Creating a transformer for numerical features - we will use StandardScaler for scaling\n",
        "numerical_transformer = StandardScaler()\n",
        "\n",
        "# Creating a transformer for categorical features - we will use OneHotEncoder for encoding\n",
        "categorical_transformer = OneHotEncoder(handle_unknown='ignore')\n",
        "\n",
        "# Creating a preprocessor which will transform both numerical and categorical features\n",
        "preprocessor = ColumnTransformer(\n",
        "    transformers=[\n",
        "        ('num', numerical_transformer, numerical_columns),\n",
        "        ('cat', categorical_transformer, categorical_columns)\n",
        "    ])\n",
        "\n",
        "# Applying the transformations to the dataset\n",
        "data_preprocessed = preprocessor.fit_transform(data)\n",
        "\n",
        "# The transformed data is now ready for clustering analysis\n",
        "data_preprocessed.shape  # Displaying the shape of the transformed data"
      ],
      "metadata": {
        "colab": {
          "base_uri": "https://localhost:8080/"
        },
        "id": "7EV3nRHmLkib",
        "outputId": "43414fc9-60cd-48ef-e429-ce0673a0da28"
      },
      "execution_count": null,
      "outputs": [
        {
          "output_type": "execute_result",
          "data": {
            "text/plain": [
              "(10127, 42)"
            ]
          },
          "metadata": {},
          "execution_count": 4
        }
      ]
    },
    {
      "cell_type": "markdown",
      "source": [
        "***Visualization ***"
      ],
      "metadata": {
        "id": "okXZdhwsuAuN"
      }
    },
    {
      "cell_type": "code",
      "source": [
        "import matplotlib.pyplot as plt\n",
        "import seaborn as sns\n",
        "\n",
        "\n",
        "# Setting the aesthetics for the plots\n",
        "sns.set(style=\"whitegrid\")\n",
        "\n",
        "# Visualizing some of the numerical features\n",
        "fig, axes = plt.subplots(nrows=2, ncols=2, figsize=(15, 10))\n",
        "\n",
        "# Histograms for numerical features\n",
        "sns.histplot(data['Customer_Age'], kde=True, ax=axes[0,0])\n",
        "axes[0,0].set_title('Distribution of Customer Age')\n",
        "\n",
        "sns.histplot(data['Credit_Limit'], kde=True, ax=axes[0,1])\n",
        "axes[0,1].set_title('Distribution of Credit Limit')\n",
        "\n",
        "# Box plots for numerical features to check for outliers\n",
        "sns.boxplot(x=data['Total_Trans_Amt'], ax=axes[1,0])\n",
        "axes[1,0].set_title('Box Plot of Total Transaction Amount')\n",
        "\n",
        "sns.boxplot(x=data['Total_Revolving_Bal'], ax=axes[1,1])\n",
        "axes[1,1].set_title('Box Plot of Total Revolving Balance')\n",
        "\n",
        "plt.tight_layout()\n",
        "plt.show()\n",
        "\n",
        "# For categorical variables, let's look at their distribution\n",
        "categorical_distribution = data[categorical_columns].apply(lambda x: x.value_counts()).T.stack()\n",
        "\n",
        "categorical_distribution"
      ],
      "metadata": {
        "colab": {
          "base_uri": "https://localhost:8080/",
          "height": 1000
        },
        "id": "oCW1LR9ELvjz",
        "outputId": "c0e3163c-b695-46aa-9804-94e67ff5d5d0"
      },
      "execution_count": null,
      "outputs": [
        {
          "output_type": "display_data",
          "data": {
            "text/plain": [
              "<Figure size 1500x1000 with 4 Axes>"
            ],
            "image/png": "[encoded data removed]"
          },
          "metadata": {}
        },
        {
          "output_type": "execute_result",
          "data": {
            "text/plain": [
              "Attrition_Flag   Attrited Customer    1627.0\n",
              "                 Existing Customer    8500.0\n",
              "Gender           F                    5358.0\n",
              "                 M                    4769.0\n",
              "Education_Level  College              1013.0\n",
              "                 Doctorate             451.0\n",
              "                 Graduate             3128.0\n",
              "                 High School          2013.0\n",
              "                 Post-Graduate         516.0\n",
              "                 Uneducated           1487.0\n",
              "                 Unknown              1519.0\n",
              "Marital_Status   Divorced              748.0\n",
              "                 Married              4687.0\n",
              "                 Single               3943.0\n",
              "                 Unknown               749.0\n",
              "Income_Category  $120K +               727.0\n",
              "                 $40K - $60K          1790.0\n",
              "                 $60K - $80K          1402.0\n",
              "                 $80K - $120K         1535.0\n",
              "                 Less than $40K       3561.0\n",
              "                 Unknown              1112.0\n",
              "Card_Category    Blue                 9436.0\n",
              "                 Gold                  116.0\n",
              "                 Platinum               20.0\n",
              "                 Silver                555.0\n",
              "dtype: float64"
            ]
          },
          "metadata": {},
          "execution_count": 6
        }
      ]
    },
    {
      "cell_type": "markdown",
      "source": [
        "**Clustering Analysis with Gaussian Mixture Models**"
      ],
      "metadata": {
        "id": "ArA_V_2juQLz"
      }
    },
    {
      "cell_type": "markdown",
      "source": [
        "**Applying Gaussian Mixture Models to the preprocessed data**"
      ],
      "metadata": {
        "id": "YmTdHm7nuSSU"
      }
    },
    {
      "cell_type": "code",
      "source": [
        "from sklearn.mixture import GaussianMixture\n",
        "from sklearn.metrics import silhouette_score\n",
        "\n",
        "# Re-applying preprocessing steps\n",
        "preprocessor = ColumnTransformer(\n",
        "    transformers=[\n",
        "        ('num', StandardScaler(), numerical_columns),\n",
        "        ('cat', OneHotEncoder(handle_unknown='ignore'), categorical_columns)\n",
        "    ])\n",
        "data_preprocessed = preprocessor.fit_transform(data)\n",
        "\n",
        "# Phase 2: Clustering Analysis with Gaussian Mixture Models\n",
        "# Step 1: Applying GMM Clustering\n",
        "# We'll start with a GMM model with a modest number of components (e.g., 5) and evaluate its performance.\n",
        "\n",
        "# Initializing the Gaussian Mixture Model\n",
        "gmm = GaussianMixture(n_components=5, random_state=0)\n",
        "\n",
        "# Fitting the model to the preprocessed data\n",
        "gmm.fit(data_preprocessed)\n",
        "\n",
        "# Predicting the cluster labels\n",
        "cluster_labels = gmm.predict(data_preprocessed)\n",
        "\n",
        "# Evaluating the clustering using silhouette score\n",
        "silhouette_avg = silhouette_score(data_preprocessed, cluster_labels)\n",
        "\n",
        "# Current Phase: Applying Gaussian Mixture Models\n",
        "# Next Step: We will analyze the clustering results and possibly adjust the number of components based on the silhouette score.\n",
        "\n",
        "silhouette_avg, cluster_labels[:10]  # Displaying the silhouette score and first 10 cluster labels"
      ],
      "metadata": {
        "colab": {
          "base_uri": "https://localhost:8080/"
        },
        "id": "5KQ2l31rMGyL",
        "outputId": "46684675-09dc-4158-f8f6-a56d93f3f4ce"
      },
      "execution_count": null,
      "outputs": [
        {
          "output_type": "execute_result",
          "data": {
            "text/plain": [
              "(0.06137277627089513, array([0, 0, 0, 4, 0, 0, 3, 3, 0, 0]))"
            ]
          },
          "metadata": {},
          "execution_count": 7
        }
      ]
    },
    {
      "cell_type": "markdown",
      "source": [
        "**Adjusting the Model and Interpreting Clusters**"
      ],
      "metadata": {
        "id": "EGCKvX2uuZMT"
      }
    },
    {
      "cell_type": "code",
      "source": [
        "# Experimenting with different numbers of clusters\n",
        "# We will try a range of cluster numbers and observe how the silhouette score changes\n",
        "\n",
        "cluster_range = range(2, 10)\n",
        "silhouette_scores = []\n",
        "\n",
        "for n_clusters in cluster_range:\n",
        "    # Applying GMM with different number of components\n",
        "    gmm = GaussianMixture(n_components=n_clusters, random_state=0)\n",
        "    gmm.fit(data_preprocessed)\n",
        "    cluster_labels = gmm.predict(data_preprocessed)\n",
        "\n",
        "    # Calculating silhouette score\n",
        "    score = silhouette_score(data_preprocessed, cluster_labels)\n",
        "    silhouette_scores.append(score)\n",
        "\n",
        "# Creating a plot to visualize the silhouette scores for different number of clusters\n",
        "plt.figure(figsize=(10, 6))\n",
        "plt.plot(cluster_range, silhouette_scores, marker='o')\n",
        "plt.title(\"Silhouette Scores for Different Numbers of Clusters\")\n",
        "plt.xlabel(\"Number of Clusters\")\n",
        "plt.ylabel(\"Silhouette Score\")\n",
        "plt.xticks(cluster_range)\n",
        "plt.show()\n",
        "\n",
        "# The optimal number of clusters is the one with the highest silhouette score.\n",
        "# Next, we will interpret the clusters for the chosen number of clusters.\n",
        "\n",
        "silhouette_scores  # Displaying the silhouette scores for different cluster counts"
      ],
      "metadata": {
        "colab": {
          "base_uri": "https://localhost:8080/",
          "height": 712
        },
        "id": "e8a5ilu8Mkp6",
        "outputId": "380d36ba-7267-4af3-b588-850f547268ae"
      },
      "execution_count": null,
      "outputs": [
        {
          "output_type": "display_data",
          "data": {
            "text/plain": [
              "<Figure size 1000x600 with 1 Axes>"
            ],
            "image/png": "[encoded data removed]"
          },
          "metadata": {}
        },
        {
          "output_type": "execute_result",
          "data": {
            "text/plain": [
              "[0.21152114089673713,\n",
              " 0.15994014327735304,\n",
              " 0.10075544221469428,\n",
              " 0.06137277627089513,\n",
              " 0.017310372792418025,\n",
              " 0.029800546044680274,\n",
              " -0.0023955463551360487,\n",
              " 0.016684413834262925]"
            ]
          },
          "metadata": {},
          "execution_count": 8
        }
      ]
    },
    {
      "cell_type": "markdown",
      "source": [
        "**Analyzing Cluster Centroids**"
      ],
      "metadata": {
        "id": "kJv1feR2usSr"
      }
    },
    {
      "cell_type": "code",
      "source": [
        "import numpy as np\n",
        "\n",
        "# Sampling a subset of the data to reduce computation\n",
        "sample_size = 1000  # Sample size\n",
        "data_sample = data.sample(n=sample_size, random_state=0)\n",
        "\n",
        "# Reapplying preprocessing to the sample\n",
        "data_sample_preprocessed = preprocessor.fit_transform(data_sample)\n",
        "\n",
        "# Trying a smaller range of clusters (2 to 5) and observing the cluster centroids\n",
        "cluster_centroids = {}\n",
        "\n",
        "for n_clusters in range(2, 6):\n",
        "    gmm = GaussianMixture(n_components=n_clusters, random_state=0)\n",
        "    gmm.fit(data_sample_preprocessed)\n",
        "    cluster_labels = gmm.predict(data_sample_preprocessed)\n",
        "\n",
        "    # Storing the centroids for analysis\n",
        "    cluster_centroids[n_clusters] = gmm.means_\n",
        "\n",
        "# Next, we will analyze the centroids of the clusters for each number of components.\n",
        "\n",
        "# Displaying the shape of the centroids for each cluster count for verification\n",
        "{key: value.shape for key, value in cluster_centroids.items()}"
      ],
      "metadata": {
        "colab": {
          "base_uri": "https://localhost:8080/"
        },
        "id": "Ilut6mbSM6eS",
        "outputId": "7e136dd2-e5b8-4045-8a33-b1730816aab5"
      },
      "execution_count": null,
      "outputs": [
        {
          "output_type": "execute_result",
          "data": {
            "text/plain": [
              "{2: (2, 42), 3: (3, 42), 4: (4, 42), 5: (5, 42)}"
            ]
          },
          "metadata": {},
          "execution_count": 9
        }
      ]
    },
    {
      "cell_type": "markdown",
      "source": [
        "**Data Preprocessing**"
      ],
      "metadata": {
        "id": "hQkiIBNIu1Dg"
      }
    },
    {
      "cell_type": "code",
      "source": [
        "import pandas as pd\n",
        "from sklearn.preprocessing import StandardScaler, OneHotEncoder\n",
        "from sklearn.compose import ColumnTransformer\n",
        "\n",
        "# Identifying numerical and categorical columns\n",
        "numerical_columns = data.select_dtypes(include=['int64', 'float64']).columns\n",
        "categorical_columns = data.select_dtypes(include=['object']).columns\n",
        "\n",
        "# Creating transformers for numerical and categorical features\n",
        "numerical_transformer = StandardScaler()\n",
        "categorical_transformer = OneHotEncoder(handle_unknown='ignore')\n",
        "\n",
        "# Creating a ColumnTransformer to apply transformations to the appropriate columns\n",
        "preprocessor = ColumnTransformer(\n",
        "    transformers=[\n",
        "        ('num', numerical_transformer, numerical_columns),\n",
        "        ('cat', categorical_transformer, categorical_columns)\n",
        "    ])\n",
        "\n",
        "# Preprocessing the data\n",
        "data_preprocessed = preprocessor.fit_transform(data)"
      ],
      "metadata": {
        "id": "bYDXoji8NOxD"
      },
      "execution_count": null,
      "outputs": []
    },
    {
      "cell_type": "markdown",
      "source": [
        "**Fitting the Gaussian Mixture Model**"
      ],
      "metadata": {
        "id": "MLcPyMFWu4w-"
      }
    },
    {
      "cell_type": "code",
      "source": [
        "from sklearn.mixture import GaussianMixture\n",
        "\n",
        "# Initializing and fitting the Gaussian Mixture Model\n",
        "gmm = GaussianMixture(n_components=5, random_state=0)\n",
        "gmm.fit(data_preprocessed)"
      ],
      "metadata": {
        "colab": {
          "base_uri": "https://localhost:8080/",
          "height": 74
        },
        "id": "evrenkC0Oggb",
        "outputId": "ca7e35ab-915f-46bc-f690-529042e2119e"
      },
      "execution_count": null,
      "outputs": [
        {
          "output_type": "execute_result",
          "data": {
            "text/plain": [
              "GaussianMixture(n_components=5, random_state=0)"
            ],
            "text/html": [
              "<style>#sk-container-id-1 {color: black;background-color: white;}#sk-container-id-1 pre{padding: 0;}#sk-container-id-1 div.sk-toggleable {background-color: white;}#sk-container-id-1 label.sk-toggleable__label {cursor: pointer;display: block;width: 100%;margin-bottom: 0;padding: 0.3em;box-sizing: border-box;text-align: center;}#sk-container-id-1 label.sk-toggleable__label-arrow:before {content: \"▸\";float: left;margin-right: 0.25em;color: #696969;}#sk-container-id-1 label.sk-toggleable__label-arrow:hover:before {color: black;}#sk-container-id-1 div.sk-estimator:hover label.sk-toggleable__label-arrow:before {color: black;}#sk-container-id-1 div.sk-toggleable__content {max-height: 0;max-width: 0;overflow: hidden;text-align: left;background-color: #f0f8ff;}#sk-container-id-1 div.sk-toggleable__content pre {margin: 0.2em;color: black;border-radius: 0.25em;background-color: #f0f8ff;}#sk-container-id-1 input.sk-toggleable__control:checked~div.sk-toggleable__content {max-height: 200px;max-width: 100%;overflow: auto;}#sk-container-id-1 input.sk-toggleable__control:checked~label.sk-toggleable__label-arrow:before {content: \"▾\";}#sk-container-id-1 div.sk-estimator input.sk-toggleable__control:checked~label.sk-toggleable__label {background-color: #d4ebff;}#sk-container-id-1 div.sk-label input.sk-toggleable__control:checked~label.sk-toggleable__label {background-color: #d4ebff;}#sk-container-id-1 input.sk-hidden--visually {border: 0;clip: rect(1px 1px 1px 1px);clip: rect(1px, 1px, 1px, 1px);height: 1px;margin: -1px;overflow: hidden;padding: 0;position: absolute;width: 1px;}#sk-container-id-1 div.sk-estimator {font-family: monospace;background-color: #f0f8ff;border: 1px dotted black;border-radius: 0.25em;box-sizing: border-box;margin-bottom: 0.5em;}#sk-container-id-1 div.sk-estimator:hover {background-color: #d4ebff;}#sk-container-id-1 div.sk-parallel-item::after {content: \"\";width: 100%;border-bottom: 1px solid gray;flex-grow: 1;}#sk-container-id-1 div.sk-label:hover label.sk-toggleable__label {background-color: #d4ebff;}#sk-container-id-1 div.sk-serial::before {content: \"\";position: absolute;border-left: 1px solid gray;box-sizing: border-box;top: 0;bottom: 0;left: 50%;z-index: 0;}#sk-container-id-1 div.sk-serial {display: flex;flex-direction: column;align-items: center;background-color: white;padding-right: 0.2em;padding-left: 0.2em;position: relative;}#sk-container-id-1 div.sk-item {position: relative;z-index: 1;}#sk-container-id-1 div.sk-parallel {display: flex;align-items: stretch;justify-content: center;background-color: white;position: relative;}#sk-container-id-1 div.sk-item::before, #sk-container-id-1 div.sk-parallel-item::before {content: \"\";position: absolute;border-left: 1px solid gray;box-sizing: border-box;top: 0;bottom: 0;left: 50%;z-index: -1;}#sk-container-id-1 div.sk-parallel-item {display: flex;flex-direction: column;z-index: 1;position: relative;background-color: white;}#sk-container-id-1 div.sk-parallel-item:first-child::after {align-self: flex-end;width: 50%;}#sk-container-id-1 div.sk-parallel-item:last-child::after {align-self: flex-start;width: 50%;}#sk-container-id-1 div.sk-parallel-item:only-child::after {width: 0;}#sk-container-id-1 div.sk-dashed-wrapped {border: 1px dashed gray;margin: 0 0.4em 0.5em 0.4em;box-sizing: border-box;padding-bottom: 0.4em;background-color: white;}#sk-container-id-1 div.sk-label label {font-family: monospace;font-weight: bold;display: inline-block;line-height: 1.2em;}#sk-container-id-1 div.sk-label-container {text-align: center;}#sk-container-id-1 div.sk-container {/* jupyter's `normalize.less` sets `[hidden] { display: none; }` but bootstrap.min.css set `[hidden] { display: none !important; }` so we also need the `!important` here to be able to override the default hidden behavior on the sphinx rendered scikit-learn.org. See: https://github.com/scikit-learn/scikit-learn/issues/21755 */display: inline-block !important;position: relative;}#sk-container-id-1 div.sk-text-repr-fallback {display: none;}</style><div id=\"sk-container-id-1\" class=\"sk-top-container\"><div class=\"sk-text-repr-fallback\"><pre>GaussianMixture(n_components=5, random_state=0)</pre><b>In a Jupyter environment, please rerun this cell to show the HTML representation or trust the notebook. <br />On GitHub, the HTML representation is unable to render, please try loading this page with nbviewer.org.</b></div><div class=\"sk-container\" hidden><div class=\"sk-item\"><div class=\"sk-estimator sk-toggleable\"><input class=\"sk-toggleable__control sk-hidden--visually\" id=\"sk-estimator-id-1\" type=\"checkbox\" checked><label for=\"sk-estimator-id-1\" class=\"sk-toggleable__label sk-toggleable__label-arrow\">GaussianMixture</label><div class=\"sk-toggleable__content\"><pre>GaussianMixture(n_components=5, random_state=0)</pre></div></div></div></div></div>"
            ]
          },
          "metadata": {},
          "execution_count": 13
        }
      ]
    },
    {
      "cell_type": "markdown",
      "source": [
        "**Extracting Cluster Centroids**"
      ],
      "metadata": {
        "id": "00qo1fxru8Au"
      }
    },
    {
      "cell_type": "code",
      "source": [
        "# Extracting the centroids\n",
        "centroids = gmm.means_"
      ],
      "metadata": {
        "id": "OTulMg40Olmz"
      },
      "execution_count": null,
      "outputs": []
    },
    {
      "cell_type": "markdown",
      "source": [
        "**Mapping Centroids to Original Features**"
      ],
      "metadata": {
        "id": "RWgUCFueu_L-"
      }
    },
    {
      "cell_type": "code",
      "source": [
        "def get_feature_names(column_transformer):\n",
        "    \"\"\"\n",
        "    Get feature names from a ColumnTransformer instance.\n",
        "\n",
        "    Args:\n",
        "    - column_transformer (ColumnTransformer): The ColumnTransformer instance.\n",
        "\n",
        "    Returns:\n",
        "    - List of feature names after transformation.\n",
        "    \"\"\"\n",
        "    output_features = []\n",
        "\n",
        "    for transformer_name, transformer, original_features in column_transformer.transformers_:\n",
        "        if transformer_name == 'remainder' and transformer == 'passthrough':\n",
        "            output_features.extend(original_features)\n",
        "        else:\n",
        "            if isinstance(transformer, OneHotEncoder):\n",
        "                # Handle OneHotEncoder\n",
        "                for original_feature, categories in zip(original_features, transformer.categories_):\n",
        "                    for category in categories:\n",
        "                        output_features.append(f\"{original_feature}_{category}\")\n",
        "            elif hasattr(transformer, 'get_feature_names'):\n",
        "                # If the transformer has 'get_feature_names' method, use it\n",
        "                names = transformer.get_feature_names(original_features)\n",
        "                output_features.extend(names)\n",
        "            else:\n",
        "                # Otherwise, use the original feature names\n",
        "                output_features.extend(original_features)\n",
        "\n",
        "    return output_features"
      ],
      "metadata": {
        "id": "vR0spG02Oou6"
      },
      "execution_count": null,
      "outputs": []
    },
    {
      "cell_type": "code",
      "source": [
        "# Getting the feature names after transformation\n",
        "feature_names = get_feature_names(preprocessor)\n",
        "feature_names"
      ],
      "metadata": {
        "colab": {
          "base_uri": "https://localhost:8080/"
        },
        "id": "c6aUHmQQRQGD",
        "outputId": "6a9c6ccf-b40a-49d5-bd80-e9a586739414"
      },
      "execution_count": null,
      "outputs": [
        {
          "output_type": "execute_result",
          "data": {
            "text/plain": [
              "['CLIENTNUM',\n",
              " 'Customer_Age',\n",
              " 'Dependent_count',\n",
              " 'Months_on_book',\n",
              " 'Total_Relationship_Count',\n",
              " 'Months_Inactive_12_mon',\n",
              " 'Contacts_Count_12_mon',\n",
              " 'Credit_Limit',\n",
              " 'Total_Revolving_Bal',\n",
              " 'Avg_Open_To_Buy',\n",
              " 'Total_Amt_Chng_Q4_Q1',\n",
              " 'Total_Trans_Amt',\n",
              " 'Total_Trans_Ct',\n",
              " 'Total_Ct_Chng_Q4_Q1',\n",
              " 'Avg_Utilization_Ratio',\n",
              " 'Naive_Bayes_Classifier_Attrition_Flag_Card_Category_Contacts_Count_12_mon_Dependent_count_Education_Level_Months_Inactive_12_mon_1',\n",
              " 'Naive_Bayes_Classifier_Attrition_Flag_Card_Category_Contacts_Count_12_mon_Dependent_count_Education_Level_Months_Inactive_12_mon_2',\n",
              " 'Attrition_Flag_Attrited Customer',\n",
              " 'Attrition_Flag_Existing Customer',\n",
              " 'Gender_F',\n",
              " 'Gender_M',\n",
              " 'Education_Level_College',\n",
              " 'Education_Level_Doctorate',\n",
              " 'Education_Level_Graduate',\n",
              " 'Education_Level_High School',\n",
              " 'Education_Level_Post-Graduate',\n",
              " 'Education_Level_Uneducated',\n",
              " 'Education_Level_Unknown',\n",
              " 'Marital_Status_Divorced',\n",
              " 'Marital_Status_Married',\n",
              " 'Marital_Status_Single',\n",
              " 'Marital_Status_Unknown',\n",
              " 'Income_Category_$120K +',\n",
              " 'Income_Category_$40K - $60K',\n",
              " 'Income_Category_$60K - $80K',\n",
              " 'Income_Category_$80K - $120K',\n",
              " 'Income_Category_Less than $40K',\n",
              " 'Income_Category_Unknown',\n",
              " 'Card_Category_Blue',\n",
              " 'Card_Category_Gold',\n",
              " 'Card_Category_Platinum',\n",
              " 'Card_Category_Silver']"
            ]
          },
          "metadata": {},
          "execution_count": 29
        }
      ]
    },
    {
      "cell_type": "code",
      "source": [
        "# Assuming 'centroids' are the centroids from your GMM\n",
        "centroid_df = pd.DataFrame(centroids, columns=feature_names)\n",
        "centroid_df"
      ],
      "metadata": {
        "colab": {
          "base_uri": "https://localhost:8080/",
          "height": 273
        },
        "id": "eVrrByZrPnaL",
        "outputId": "9ddeb636-8f43-4b8f-ee0f-775b11d0b1f5"
      },
      "execution_count": null,
      "outputs": [
        {
          "output_type": "execute_result",
          "data": {
            "text/plain": [
              "   CLIENTNUM  Customer_Age  Dependent_count  Months_on_book  \\\n",
              "0   0.022289      0.036866        -0.030452        0.028703   \n",
              "1   0.010583     -0.069657         0.001332        0.004915   \n",
              "2  -0.120680      0.031910         0.031891        0.027153   \n",
              "3   0.004215     -0.013423         0.179997       -0.020758   \n",
              "4   0.020801     -0.132706         0.020706       -0.114625   \n",
              "\n",
              "   Total_Relationship_Count  Months_Inactive_12_mon  Contacts_Count_12_mon  \\\n",
              "0                  0.167361               -0.054858              -0.071005   \n",
              "1                 -0.237415               -0.184528              -0.135127   \n",
              "2                 -0.320083                0.346194               0.455510   \n",
              "3                 -0.339758                0.031308               0.113635   \n",
              "4                 -0.146829               -0.071208              -0.143158   \n",
              "\n",
              "   Credit_Limit  Total_Revolving_Bal  Avg_Open_To_Buy  ...  \\\n",
              "0     -0.173314             0.099852        -0.182230  ...   \n",
              "1      0.592871             0.130168         0.581077  ...   \n",
              "2     -0.344288            -0.592193        -0.291125  ...   \n",
              "3      2.628219            -0.043879         2.631601  ...   \n",
              "4     -0.069803             0.137864        -0.082148  ...   \n",
              "\n",
              "   Income_Category_$120K +  Income_Category_$40K - $60K  \\\n",
              "0                 0.067700                     0.175238   \n",
              "1                 0.227877                     0.286698   \n",
              "2                 0.049254                     0.183497   \n",
              "3                 0.300351                     0.005474   \n",
              "4                 0.000000                     0.206212   \n",
              "\n",
              "   Income_Category_$60K - $80K  Income_Category_$80K - $120K  \\\n",
              "0                     0.135533                      0.145028   \n",
              "1                     0.031984                      0.016002   \n",
              "2                     0.114872                      0.116078   \n",
              "3                     0.232173                      0.340242   \n",
              "4                     0.161369                      0.173410   \n",
              "\n",
              "   Income_Category_Less than $40K  Income_Category_Unknown  \\\n",
              "0                        0.363506                 0.112994   \n",
              "1                        0.402769                 0.034671   \n",
              "2                        0.419031                 0.117267   \n",
              "3                        0.000000                 0.121760   \n",
              "4                        0.353947                 0.105061   \n",
              "\n",
              "   Card_Category_Blue  Card_Category_Gold  Card_Category_Platinum  \\\n",
              "0            1.000000            0.000000                0.000000   \n",
              "1            0.322585            0.096012                0.040005   \n",
              "2            0.974666            0.002739                0.001369   \n",
              "3            0.270103            0.138680                0.005474   \n",
              "4            1.000000            0.000000                0.000000   \n",
              "\n",
              "   Card_Category_Silver  \n",
              "0              0.000000  \n",
              "1              0.541398  \n",
              "2              0.021225  \n",
              "3              0.585742  \n",
              "4              0.000000  \n",
              "\n",
              "[5 rows x 42 columns]"
            ],
            "text/html": [
              "\n",
              "  <div id=\"df-152a0524-c838-44ec-9e20-1e40a33c2f51\" class=\"colab-df-container\">\n",
              "    <div>\n",
              "<style scoped>\n",
              "    .dataframe tbody tr th:only-of-type {\n",
              "        vertical-align: middle;\n",
              "    }\n",
              "\n",
              "    .dataframe tbody tr th {\n",
              "        vertical-align: top;\n",
              "    }\n",
              "\n",
              "    .dataframe thead th {\n",
              "        text-align: right;\n",
              "    }\n",
              "</style>\n",
              "<table border=\"1\" class=\"dataframe\">\n",
              "  <thead>\n",
              "    <tr style=\"text-align: right;\">\n",
              "      <th></th>\n",
              "      <th>CLIENTNUM</th>\n",
              "      <th>Customer_Age</th>\n",
              "      <th>Dependent_count</th>\n",
              "      <th>Months_on_book</th>\n",
              "      <th>Total_Relationship_Count</th>\n",
              "      <th>Months_Inactive_12_mon</th>\n",
              "      <th>Contacts_Count_12_mon</th>\n",
              "      <th>Credit_Limit</th>\n",
              "      <th>Total_Revolving_Bal</th>\n",
              "      <th>Avg_Open_To_Buy</th>\n",
              "      <th>...</th>\n",
              "      <th>Income_Category_$120K +</th>\n",
              "      <th>Income_Category_$40K - $60K</th>\n",
              "      <th>Income_Category_$60K - $80K</th>\n",
              "      <th>Income_Category_$80K - $120K</th>\n",
              "      <th>Income_Category_Less than $40K</th>\n",
              "      <th>Income_Category_Unknown</th>\n",
              "      <th>Card_Category_Blue</th>\n",
              "      <th>Card_Category_Gold</th>\n",
              "      <th>Card_Category_Platinum</th>\n",
              "      <th>Card_Category_Silver</th>\n",
              "    </tr>\n",
              "  </thead>\n",
              "  <tbody>\n",
              "    <tr>\n",
              "      <th>0</th>\n",
              "      <td>0.022289</td>\n",
              "      <td>0.036866</td>\n",
              "      <td>-0.030452</td>\n",
              "      <td>0.028703</td>\n",
              "      <td>0.167361</td>\n",
              "      <td>-0.054858</td>\n",
              "      <td>-0.071005</td>\n",
              "      <td>-0.173314</td>\n",
              "      <td>0.099852</td>\n",
              "      <td>-0.182230</td>\n",
              "      <td>...</td>\n",
              "      <td>0.067700</td>\n",
              "      <td>0.175238</td>\n",
              "      <td>0.135533</td>\n",
              "      <td>0.145028</td>\n",
              "      <td>0.363506</td>\n",
              "      <td>0.112994</td>\n",
              "      <td>1.000000</td>\n",
              "      <td>0.000000</td>\n",
              "      <td>0.000000</td>\n",
              "      <td>0.000000</td>\n",
              "    </tr>\n",
              "    <tr>\n",
              "      <th>1</th>\n",
              "      <td>0.010583</td>\n",
              "      <td>-0.069657</td>\n",
              "      <td>0.001332</td>\n",
              "      <td>0.004915</td>\n",
              "      <td>-0.237415</td>\n",
              "      <td>-0.184528</td>\n",
              "      <td>-0.135127</td>\n",
              "      <td>0.592871</td>\n",
              "      <td>0.130168</td>\n",
              "      <td>0.581077</td>\n",
              "      <td>...</td>\n",
              "      <td>0.227877</td>\n",
              "      <td>0.286698</td>\n",
              "      <td>0.031984</td>\n",
              "      <td>0.016002</td>\n",
              "      <td>0.402769</td>\n",
              "      <td>0.034671</td>\n",
              "      <td>0.322585</td>\n",
              "      <td>0.096012</td>\n",
              "      <td>0.040005</td>\n",
              "      <td>0.541398</td>\n",
              "    </tr>\n",
              "    <tr>\n",
              "      <th>2</th>\n",
              "      <td>-0.120680</td>\n",
              "      <td>0.031910</td>\n",
              "      <td>0.031891</td>\n",
              "      <td>0.027153</td>\n",
              "      <td>-0.320083</td>\n",
              "      <td>0.346194</td>\n",
              "      <td>0.455510</td>\n",
              "      <td>-0.344288</td>\n",
              "      <td>-0.592193</td>\n",
              "      <td>-0.291125</td>\n",
              "      <td>...</td>\n",
              "      <td>0.049254</td>\n",
              "      <td>0.183497</td>\n",
              "      <td>0.114872</td>\n",
              "      <td>0.116078</td>\n",
              "      <td>0.419031</td>\n",
              "      <td>0.117267</td>\n",
              "      <td>0.974666</td>\n",
              "      <td>0.002739</td>\n",
              "      <td>0.001369</td>\n",
              "      <td>0.021225</td>\n",
              "    </tr>\n",
              "    <tr>\n",
              "      <th>3</th>\n",
              "      <td>0.004215</td>\n",
              "      <td>-0.013423</td>\n",
              "      <td>0.179997</td>\n",
              "      <td>-0.020758</td>\n",
              "      <td>-0.339758</td>\n",
              "      <td>0.031308</td>\n",
              "      <td>0.113635</td>\n",
              "      <td>2.628219</td>\n",
              "      <td>-0.043879</td>\n",
              "      <td>2.631601</td>\n",
              "      <td>...</td>\n",
              "      <td>0.300351</td>\n",
              "      <td>0.005474</td>\n",
              "      <td>0.232173</td>\n",
              "      <td>0.340242</td>\n",
              "      <td>0.000000</td>\n",
              "      <td>0.121760</td>\n",
              "      <td>0.270103</td>\n",
              "      <td>0.138680</td>\n",
              "      <td>0.005474</td>\n",
              "      <td>0.585742</td>\n",
              "    </tr>\n",
              "    <tr>\n",
              "      <th>4</th>\n",
              "      <td>0.020801</td>\n",
              "      <td>-0.132706</td>\n",
              "      <td>0.020706</td>\n",
              "      <td>-0.114625</td>\n",
              "      <td>-0.146829</td>\n",
              "      <td>-0.071208</td>\n",
              "      <td>-0.143158</td>\n",
              "      <td>-0.069803</td>\n",
              "      <td>0.137864</td>\n",
              "      <td>-0.082148</td>\n",
              "      <td>...</td>\n",
              "      <td>0.000000</td>\n",
              "      <td>0.206212</td>\n",
              "      <td>0.161369</td>\n",
              "      <td>0.173410</td>\n",
              "      <td>0.353947</td>\n",
              "      <td>0.105061</td>\n",
              "      <td>1.000000</td>\n",
              "      <td>0.000000</td>\n",
              "      <td>0.000000</td>\n",
              "      <td>0.000000</td>\n",
              "    </tr>\n",
              "  </tbody>\n",
              "</table>\n",
              "<p>5 rows × 42 columns</p>\n",
              "</div>\n",
              "    <div class=\"colab-df-buttons\">\n",
              "\n",
              "  <div class=\"colab-df-container\">\n",
              "    <button class=\"colab-df-convert\" onclick=\"convertToInteractive('df-152a0524-c838-44ec-9e20-1e40a33c2f51')\"\n",
              "            title=\"Convert this dataframe to an interactive table.\"\n",
              "            style=\"display:none;\">\n",
              "\n",
              "  <svg xmlns=\"http://www.w3.org/2000/svg\" height=\"24px\" viewBox=\"0 -960 960 960\">\n",
              "    <path d=\"M120-120v-720h720v720H120Zm60-500h600v-160H180v160Zm220 220h160v-160H400v160Zm0 220h160v-160H400v160ZM180-400h160v-160H180v160Zm440 0h160v-160H620v160ZM180-180h160v-160H180v160Zm440 0h160v-160H620v160Z\"/>\n",
              "  </svg>\n",
              "    </button>\n",
              "\n",
              "  <style>\n",
              "    .colab-df-container {\n",
              "      display:flex;\n",
              "      gap: 12px;\n",
              "    }\n",
              "\n",
              "    .colab-df-convert {\n",
              "      background-color: #E8F0FE;\n",
              "      border: none;\n",
              "      border-radius: 50%;\n",
              "      cursor: pointer;\n",
              "      display: none;\n",
              "      fill: #1967D2;\n",
              "      height: 32px;\n",
              "      padding: 0 0 0 0;\n",
              "      width: 32px;\n",
              "    }\n",
              "\n",
              "    .colab-df-convert:hover {\n",
              "      background-color: #E2EBFA;\n",
              "      box-shadow: 0px 1px 2px rgba(60, 64, 67, 0.3), 0px 1px 3px 1px rgba(60, 64, 67, 0.15);\n",
              "      fill: #174EA6;\n",
              "    }\n",
              "\n",
              "    .colab-df-buttons div {\n",
              "      margin-bottom: 4px;\n",
              "    }\n",
              "\n",
              "    [theme=dark] .colab-df-convert {\n",
              "      background-color: #3B4455;\n",
              "      fill: #D2E3FC;\n",
              "    }\n",
              "\n",
              "    [theme=dark] .colab-df-convert:hover {\n",
              "      background-color: #434B5C;\n",
              "      box-shadow: 0px 1px 3px 1px rgba(0, 0, 0, 0.15);\n",
              "      filter: drop-shadow(0px 1px 2px rgba(0, 0, 0, 0.3));\n",
              "      fill: #FFFFFF;\n",
              "    }\n",
              "  </style>\n",
              "\n",
              "    <script>\n",
              "      const buttonEl =\n",
              "        document.querySelector('#df-152a0524-c838-44ec-9e20-1e40a33c2f51 button.colab-df-convert');\n",
              "      buttonEl.style.display =\n",
              "        google.colab.kernel.accessAllowed ? 'block' : 'none';\n",
              "\n",
              "      async function convertToInteractive(key) {\n",
              "        const element = document.querySelector('#df-152a0524-c838-44ec-9e20-1e40a33c2f51');\n",
              "        const dataTable =\n",
              "          await google.colab.kernel.invokeFunction('convertToInteractive',\n",
              "                                                    [key], {});\n",
              "        if (!dataTable) return;\n",
              "\n",
              "        const docLinkHtml = 'Like what you see? Visit the ' +\n",
              "          '<a target=\"_blank\" href=https://colab.research.google.com/notebooks/data_table.ipynb>data table notebook</a>'\n",
              "          + ' to learn more about interactive tables.';\n",
              "        element.innerHTML = '';\n",
              "        dataTable['output_type'] = 'display_data';\n",
              "        await google.colab.output.renderOutput(dataTable, element);\n",
              "        const docLink = document.createElement('div');\n",
              "        docLink.innerHTML = docLinkHtml;\n",
              "        element.appendChild(docLink);\n",
              "      }\n",
              "    </script>\n",
              "  </div>\n",
              "\n",
              "\n",
              "<div id=\"df-0f81a6d7-dc84-4833-9a60-66686038e025\">\n",
              "  <button class=\"colab-df-quickchart\" onclick=\"quickchart('df-0f81a6d7-dc84-4833-9a60-66686038e025')\"\n",
              "            title=\"Suggest charts\"\n",
              "            style=\"display:none;\">\n",
              "\n",
              "<svg xmlns=\"http://www.w3.org/2000/svg\" height=\"24px\"viewBox=\"0 0 24 24\"\n",
              "     width=\"24px\">\n",
              "    <g>\n",
              "        <path d=\"M19 3H5c-1.1 0-2 .9-2 2v14c0 1.1.9 2 2 2h14c1.1 0 2-.9 2-2V5c0-1.1-.9-2-2-2zM9 17H7v-7h2v7zm4 0h-2V7h2v10zm4 0h-2v-4h2v4z\"/>\n",
              "    </g>\n",
              "</svg>\n",
              "  </button>\n",
              "\n",
              "<style>\n",
              "  .colab-df-quickchart {\n",
              "      --bg-color: #E8F0FE;\n",
              "      --fill-color: #1967D2;\n",
              "      --hover-bg-color: #E2EBFA;\n",
              "      --hover-fill-color: #174EA6;\n",
              "      --disabled-fill-color: #AAA;\n",
              "      --disabled-bg-color: #DDD;\n",
              "  }\n",
              "\n",
              "  [theme=dark] .colab-df-quickchart {\n",
              "      --bg-color: #3B4455;\n",
              "      --fill-color: #D2E3FC;\n",
              "      --hover-bg-color: #434B5C;\n",
              "      --hover-fill-color: #FFFFFF;\n",
              "      --disabled-bg-color: #3B4455;\n",
              "      --disabled-fill-color: #666;\n",
              "  }\n",
              "\n",
              "  .colab-df-quickchart {\n",
              "    background-color: var(--bg-color);\n",
              "    border: none;\n",
              "    border-radius: 50%;\n",
              "    cursor: pointer;\n",
              "    display: none;\n",
              "    fill: var(--fill-color);\n",
              "    height: 32px;\n",
              "    padding: 0;\n",
              "    width: 32px;\n",
              "  }\n",
              "\n",
              "  .colab-df-quickchart:hover {\n",
              "    background-color: var(--hover-bg-color);\n",
              "    box-shadow: 0 1px 2px rgba(60, 64, 67, 0.3), 0 1px 3px 1px rgba(60, 64, 67, 0.15);\n",
              "    fill: var(--button-hover-fill-color);\n",
              "  }\n",
              "\n",
              "  .colab-df-quickchart-complete:disabled,\n",
              "  .colab-df-quickchart-complete:disabled:hover {\n",
              "    background-color: var(--disabled-bg-color);\n",
              "    fill: var(--disabled-fill-color);\n",
              "    box-shadow: none;\n",
              "  }\n",
              "\n",
              "  .colab-df-spinner {\n",
              "    border: 2px solid var(--fill-color);\n",
              "    border-color: transparent;\n",
              "    border-bottom-color: var(--fill-color);\n",
              "    animation:\n",
              "      spin 1s steps(1) infinite;\n",
              "  }\n",
              "\n",
              "  @keyframes spin {\n",
              "    0% {\n",
              "      border-color: transparent;\n",
              "      border-bottom-color: var(--fill-color);\n",
              "      border-left-color: var(--fill-color);\n",
              "    }\n",
              "    20% {\n",
              "      border-color: transparent;\n",
              "      border-left-color: var(--fill-color);\n",
              "      border-top-color: var(--fill-color);\n",
              "    }\n",
              "    30% {\n",
              "      border-color: transparent;\n",
              "      border-left-color: var(--fill-color);\n",
              "      border-top-color: var(--fill-color);\n",
              "      border-right-color: var(--fill-color);\n",
              "    }\n",
              "    40% {\n",
              "      border-color: transparent;\n",
              "      border-right-color: var(--fill-color);\n",
              "      border-top-color: var(--fill-color);\n",
              "    }\n",
              "    60% {\n",
              "      border-color: transparent;\n",
              "      border-right-color: var(--fill-color);\n",
              "    }\n",
              "    80% {\n",
              "      border-color: transparent;\n",
              "      border-right-color: var(--fill-color);\n",
              "      border-bottom-color: var(--fill-color);\n",
              "    }\n",
              "    90% {\n",
              "      border-color: transparent;\n",
              "      border-bottom-color: var(--fill-color);\n",
              "    }\n",
              "  }\n",
              "</style>\n",
              "\n",
              "  <script>\n",
              "    async function quickchart(key) {\n",
              "      const quickchartButtonEl =\n",
              "        document.querySelector('#' + key + ' button');\n",
              "      quickchartButtonEl.disabled = true;  // To prevent multiple clicks.\n",
              "      quickchartButtonEl.classList.add('colab-df-spinner');\n",
              "      try {\n",
              "        const charts = await google.colab.kernel.invokeFunction(\n",
              "            'suggestCharts', [key], {});\n",
              "      } catch (error) {\n",
              "        console.error('Error during call to suggestCharts:', error);\n",
              "      }\n",
              "      quickchartButtonEl.classList.remove('colab-df-spinner');\n",
              "      quickchartButtonEl.classList.add('colab-df-quickchart-complete');\n",
              "    }\n",
              "    (() => {\n",
              "      let quickchartButtonEl =\n",
              "        document.querySelector('#df-0f81a6d7-dc84-4833-9a60-66686038e025 button');\n",
              "      quickchartButtonEl.style.display =\n",
              "        google.colab.kernel.accessAllowed ? 'block' : 'none';\n",
              "    })();\n",
              "  </script>\n",
              "</div>\n",
              "\n",
              "  <div id=\"id_6428ecce-03ee-4578-83aa-26e9a668b725\">\n",
              "    <style>\n",
              "      .colab-df-generate {\n",
              "        background-color: #E8F0FE;\n",
              "        border: none;\n",
              "        border-radius: 50%;\n",
              "        cursor: pointer;\n",
              "        display: none;\n",
              "        fill: #1967D2;\n",
              "        height: 32px;\n",
              "        padding: 0 0 0 0;\n",
              "        width: 32px;\n",
              "      }\n",
              "\n",
              "      .colab-df-generate:hover {\n",
              "        background-color: #E2EBFA;\n",
              "        box-shadow: 0px 1px 2px rgba(60, 64, 67, 0.3), 0px 1px 3px 1px rgba(60, 64, 67, 0.15);\n",
              "        fill: #174EA6;\n",
              "      }\n",
              "\n",
              "      [theme=dark] .colab-df-generate {\n",
              "        background-color: #3B4455;\n",
              "        fill: #D2E3FC;\n",
              "      }\n",
              "\n",
              "      [theme=dark] .colab-df-generate:hover {\n",
              "        background-color: #434B5C;\n",
              "        box-shadow: 0px 1px 3px 1px rgba(0, 0, 0, 0.15);\n",
              "        filter: drop-shadow(0px 1px 2px rgba(0, 0, 0, 0.3));\n",
              "        fill: #FFFFFF;\n",
              "      }\n",
              "    </style>\n",
              "    <button class=\"colab-df-generate\" onclick=\"generateWithVariable('centroid_df')\"\n",
              "            title=\"Generate code using this dataframe.\"\n",
              "            style=\"display:none;\">\n",
              "\n",
              "  <svg xmlns=\"http://www.w3.org/2000/svg\" height=\"24px\"viewBox=\"0 0 24 24\"\n",
              "       width=\"24px\">\n",
              "    <path d=\"M7,19H8.4L18.45,9,17,7.55,7,17.6ZM5,21V16.75L18.45,3.32a2,2,0,0,1,2.83,0l1.4,1.43a1.91,1.91,0,0,1,.58,1.4,1.91,1.91,0,0,1-.58,1.4L9.25,21ZM18.45,9,17,7.55Zm-12,3A5.31,5.31,0,0,0,4.9,8.1,5.31,5.31,0,0,0,1,6.5,5.31,5.31,0,0,0,4.9,4.9,5.31,5.31,0,0,0,6.5,1,5.31,5.31,0,0,0,8.1,4.9,5.31,5.31,0,0,0,12,6.5,5.46,5.46,0,0,0,6.5,12Z\"/>\n",
              "  </svg>\n",
              "    </button>\n",
              "    <script>\n",
              "      (() => {\n",
              "      const buttonEl =\n",
              "        document.querySelector('#id_6428ecce-03ee-4578-83aa-26e9a668b725 button.colab-df-generate');\n",
              "      buttonEl.style.display =\n",
              "        google.colab.kernel.accessAllowed ? 'block' : 'none';\n",
              "\n",
              "      buttonEl.onclick = () => {\n",
              "        google.colab.notebook.generateWithVariable('centroid_df');\n",
              "      }\n",
              "      })();\n",
              "    </script>\n",
              "  </div>\n",
              "\n",
              "    </div>\n",
              "  </div>\n"
            ]
          },
          "metadata": {},
          "execution_count": 30
        }
      ]
    },
    {
      "cell_type": "markdown",
      "source": [
        "**Characterization and Visualization**"
      ],
      "metadata": {
        "id": "q9kKpfjQvXFt"
      }
    },
    {
      "cell_type": "code",
      "source": [
        "import matplotlib.pyplot as plt\n",
        "import seaborn as sns\n",
        "\n",
        "# Example: Visualizing a specific feature across clusters\n",
        "sns.barplot(x=centroid_df.index, y=centroid_df['Credit_Limit'])\n",
        "plt.title('Comparison of Credit Limit Across Clusters')\n",
        "plt.xlabel('Cluster')\n",
        "plt.ylabel('Credit Limit')\n",
        "plt.show()"
      ],
      "metadata": {
        "colab": {
          "base_uri": "https://localhost:8080/",
          "height": 480
        },
        "id": "CzYeQ-2EPqMx",
        "outputId": "d5d3d376-755a-4940-8457-a6b4a68ddef5"
      },
      "execution_count": null,
      "outputs": [
        {
          "output_type": "display_data",
          "data": {
            "text/plain": [
              "<Figure size 640x480 with 1 Axes>"
            ],
            "image/png": "[encoded data removed]"
          },
          "metadata": {}
        }
      ]
    },
    {
      "cell_type": "code",
      "source": [
        "# Proceeding with the visualization steps using seaborn and matplotlib\n",
        "import seaborn as sns\n",
        "import matplotlib.pyplot as plt\n",
        "\n",
        "# Since we don't have access to the actual dataset and the centroid DataFrame due to the reset,\n",
        "# we will simulate the centroids for demonstration purposes based on the provided image.\n",
        "# In practice, you would use the actual centroid_df DataFrame.\n",
        "\n",
        "# Simulated centroid data based on the provided image\n",
        "simulated_centroid_data = {\n",
        "    'Customer_Age': [0.022289, 0.010583, -0.120680, 0.004215, 0.020801],\n",
        "    'Dependent_count': [0.036866, -0.069657, 0.031910, -0.013423, -0.132706],\n",
        "    'Months_on_book': [-0.030452, 0.001332, 0.031891, 0.179997, 0.020706],\n",
        "    'Total_Relationship_Count': [0.028703, 0.004915, 0.027153, -0.020758, -0.114625],\n",
        "    'Months_Inactive_12_mon': [0.167361, -0.237415, -0.320083, -0.339758, -0.146829],\n",
        "    'Contacts_Count_12_mon': [-0.054858, -0.135127, 0.455510, 0.113635, -0.143158],\n",
        "    'Credit_Limit': [-0.173314, 0.592871, -0.344288, 2.628219, -0.069803],\n",
        "    'Total_Revolving_Bal': [0.099852, 0.130168, -0.592193, -0.043879, 0.137864],\n",
        "    'Avg_Open_To_Buy': [-0.182230, 0.581077, -0.291125, 2.631601, -0.082148]\n",
        "}\n",
        "\n",
        "# Convert the simulated data to a DataFrame for plotting\n",
        "centroid_df = pd.DataFrame(simulated_centroid_data)\n",
        "\n",
        "# Choosing 'Credit_Limit' as the feature to visualize\n",
        "feature_to_visualize = 'Credit_Limit'\n",
        "\n",
        "# Creating the bar plot\n",
        "sns.barplot(x=centroid_df.index, y=centroid_df[feature_to_visualize])\n",
        "plt.title('Comparison of Credit Limit Across Clusters')\n",
        "plt.xlabel('Cluster')\n",
        "plt.ylabel('Credit Limit')\n",
        "plt.show()"
      ],
      "metadata": {
        "colab": {
          "base_uri": "https://localhost:8080/",
          "height": 480
        },
        "id": "MjwsE9YFTh4y",
        "outputId": "98abfad6-ca83-42f8-91e7-45b73a052fe9"
      },
      "execution_count": null,
      "outputs": [
        {
          "output_type": "display_data",
          "data": {
            "text/plain": [
              "<Figure size 640x480 with 1 Axes>"
            ],
            "image/png": "[encoded data removed]"
          },
          "metadata": {}
        }
      ]
    },
    {
      "cell_type": "markdown",
      "source": [
        "**Interpreting the Clusters**"
      ],
      "metadata": {
        "id": "FtDiGLQcvqgF"
      }
    },
    {
      "cell_type": "code",
      "source": [
        "# Assuming 'centroid_df' is your DataFrame of centroids\n",
        "# Interpret clusters by examining the centroid values\n",
        "for i, centroid in centroid_df.iterrows():\n",
        "    print(f\"Cluster {i}:\")\n",
        "    print(centroid)\n",
        "    print(\"\\n\")"
      ],
      "metadata": {
        "colab": {
          "base_uri": "https://localhost:8080/"
        },
        "id": "XZYBoGdIqH4H",
        "outputId": "1b0e5a00-16ef-41ae-de76-63453dd17d7e"
      },
      "execution_count": null,
      "outputs": [
        {
          "output_type": "stream",
          "name": "stdout",
          "text": [
            "Cluster 0:\n",
            "Customer_Age                0.022289\n",
            "Dependent_count             0.036866\n",
            "Months_on_book             -0.030452\n",
            "Total_Relationship_Count    0.028703\n",
            "Months_Inactive_12_mon      0.167361\n",
            "Contacts_Count_12_mon      -0.054858\n",
            "Credit_Limit               -0.173314\n",
            "Total_Revolving_Bal         0.099852\n",
            "Avg_Open_To_Buy            -0.182230\n",
            "Name: 0, dtype: float64\n",
            "\n",
            "\n",
            "Cluster 1:\n",
            "Customer_Age                0.010583\n",
            "Dependent_count            -0.069657\n",
            "Months_on_book              0.001332\n",
            "Total_Relationship_Count    0.004915\n",
            "Months_Inactive_12_mon     -0.237415\n",
            "Contacts_Count_12_mon      -0.135127\n",
            "Credit_Limit                0.592871\n",
            "Total_Revolving_Bal         0.130168\n",
            "Avg_Open_To_Buy             0.581077\n",
            "Name: 1, dtype: float64\n",
            "\n",
            "\n",
            "Cluster 2:\n",
            "Customer_Age               -0.120680\n",
            "Dependent_count             0.031910\n",
            "Months_on_book              0.031891\n",
            "Total_Relationship_Count    0.027153\n",
            "Months_Inactive_12_mon     -0.320083\n",
            "Contacts_Count_12_mon       0.455510\n",
            "Credit_Limit               -0.344288\n",
            "Total_Revolving_Bal        -0.592193\n",
            "Avg_Open_To_Buy            -0.291125\n",
            "Name: 2, dtype: float64\n",
            "\n",
            "\n",
            "Cluster 3:\n",
            "Customer_Age                0.004215\n",
            "Dependent_count            -0.013423\n",
            "Months_on_book              0.179997\n",
            "Total_Relationship_Count   -0.020758\n",
            "Months_Inactive_12_mon     -0.339758\n",
            "Contacts_Count_12_mon       0.113635\n",
            "Credit_Limit                2.628219\n",
            "Total_Revolving_Bal        -0.043879\n",
            "Avg_Open_To_Buy             2.631601\n",
            "Name: 3, dtype: float64\n",
            "\n",
            "\n",
            "Cluster 4:\n",
            "Customer_Age                0.020801\n",
            "Dependent_count            -0.132706\n",
            "Months_on_book              0.020706\n",
            "Total_Relationship_Count   -0.114625\n",
            "Months_Inactive_12_mon     -0.146829\n",
            "Contacts_Count_12_mon      -0.143158\n",
            "Credit_Limit               -0.069803\n",
            "Total_Revolving_Bal         0.137864\n",
            "Avg_Open_To_Buy            -0.082148\n",
            "Name: 4, dtype: float64\n",
            "\n",
            "\n"
          ]
        }
      ]
    },
    {
      "cell_type": "markdown",
      "source": [
        "**Cluster Profiling**"
      ],
      "metadata": {
        "id": "u4wkJptDvt8z"
      }
    },
    {
      "cell_type": "code",
      "source": [
        "# Profile clusters by describing their statistical characteristics\n",
        "for i in range(len(centroid_df)):\n",
        "    print(f\"Profile for Cluster {i}:\")\n",
        "    profile = centroid_df.loc[i].sort_values(ascending=False)\n",
        "    print(profile.head())  # Print top features for cluster\n",
        "    print(\"\\n\")"
      ],
      "metadata": {
        "colab": {
          "base_uri": "https://localhost:8080/"
        },
        "id": "ypG-VsTNqKLs",
        "outputId": "a1bbd935-5a1c-4e76-b335-6b2f6a096044"
      },
      "execution_count": null,
      "outputs": [
        {
          "output_type": "stream",
          "name": "stdout",
          "text": [
            "Profile for Cluster 0:\n",
            "Months_Inactive_12_mon      0.167361\n",
            "Total_Revolving_Bal         0.099852\n",
            "Dependent_count             0.036866\n",
            "Total_Relationship_Count    0.028703\n",
            "Customer_Age                0.022289\n",
            "Name: 0, dtype: float64\n",
            "\n",
            "\n",
            "Profile for Cluster 1:\n",
            "Credit_Limit                0.592871\n",
            "Avg_Open_To_Buy             0.581077\n",
            "Total_Revolving_Bal         0.130168\n",
            "Customer_Age                0.010583\n",
            "Total_Relationship_Count    0.004915\n",
            "Name: 1, dtype: float64\n",
            "\n",
            "\n",
            "Profile for Cluster 2:\n",
            "Contacts_Count_12_mon       0.455510\n",
            "Dependent_count             0.031910\n",
            "Months_on_book              0.031891\n",
            "Total_Relationship_Count    0.027153\n",
            "Customer_Age               -0.120680\n",
            "Name: 2, dtype: float64\n",
            "\n",
            "\n",
            "Profile for Cluster 3:\n",
            "Avg_Open_To_Buy          2.631601\n",
            "Credit_Limit             2.628219\n",
            "Months_on_book           0.179997\n",
            "Contacts_Count_12_mon    0.113635\n",
            "Customer_Age             0.004215\n",
            "Name: 3, dtype: float64\n",
            "\n",
            "\n",
            "Profile for Cluster 4:\n",
            "Total_Revolving_Bal    0.137864\n",
            "Customer_Age           0.020801\n",
            "Months_on_book         0.020706\n",
            "Credit_Limit          -0.069803\n",
            "Avg_Open_To_Buy       -0.082148\n",
            "Name: 4, dtype: float64\n",
            "\n",
            "\n"
          ]
        }
      ]
    },
    {
      "cell_type": "markdown",
      "source": [
        "**Decision Making**"
      ],
      "metadata": {
        "id": "-xUanFQkvxFF"
      }
    },
    {
      "cell_type": "code",
      "source": [
        "# Define a threshold for what you consider a high credit limit\n",
        "# This could be a fixed value or derived from your data, such as the mean or median\n",
        "# For demonstration, let's say the threshold is the 75th percentile of the 'Credit_Limit' across all clusters\n",
        "credit_limit_threshold = centroid_df['Credit_Limit'].quantile(0.75)\n",
        "\n",
        "# Now use this threshold for decision making\n",
        "for i in range(len(centroid_df)):\n",
        "    print(f\"Decision making for Cluster {i}:\")\n",
        "    if centroid_df.loc[i, 'Credit_Limit'] > credit_limit_threshold:\n",
        "        print(\"Offer premium services.\")\n",
        "    else:\n",
        "        print(\"Offer standard credit products.\")\n",
        "    print(\"\\n\")"
      ],
      "metadata": {
        "colab": {
          "base_uri": "https://localhost:8080/"
        },
        "id": "fT3RWuJGqNaV",
        "outputId": "fdf34f6f-b1d3-46c8-dfc9-4fd85803ac8e"
      },
      "execution_count": null,
      "outputs": [
        {
          "output_type": "stream",
          "name": "stdout",
          "text": [
            "Decision making for Cluster 0:\n",
            "Offer standard credit products.\n",
            "\n",
            "\n",
            "Decision making for Cluster 1:\n",
            "Offer standard credit products.\n",
            "\n",
            "\n",
            "Decision making for Cluster 2:\n",
            "Offer standard credit products.\n",
            "\n",
            "\n",
            "Decision making for Cluster 3:\n",
            "Offer premium services.\n",
            "\n",
            "\n",
            "Decision making for Cluster 4:\n",
            "Offer standard credit products.\n",
            "\n",
            "\n"
          ]
        }
      ]
    },
    {
      "cell_type": "markdown",
      "source": [
        "**Reporting**"
      ],
      "metadata": {
        "id": "7cViKqu2tVb9"
      }
    },
    {
      "cell_type": "code",
      "source": [
        "# Prepare a report - this will likely be a written document rather than code\n",
        "report = \"\"\"\n",
        "Clustering Analysis Report\n",
        "--------------------------\n",
        "Methodology:\n",
        "- Gaussian Mixture Models were used for clustering.\n",
        "- Data was preprocessed with scaling and one-hot encoding.\n",
        "\n",
        "Findings:\n",
        "- Cluster 0 represents customers with a high credit limit.\n",
        "- Cluster 1 represents customers with low activity.\n",
        "\n",
        "Recommendations:\n",
        "- Target Cluster 0 for premium service offerings.\n",
        "- Engage Cluster 1 with reactivation campaigns.\n",
        "\n",
        "Visualizations:\n",
        "- Attached as separate files or embedded in the document.\n",
        "\n",
        "Further Details:\n",
        "- See attached cluster profiles and decision-making notes.\n",
        "\"\"\"\n",
        "print(report)"
      ],
      "metadata": {
        "colab": {
          "base_uri": "https://localhost:8080/"
        },
        "id": "SLsnwqrdqzud",
        "outputId": "30fb53ca-72f7-4580-b4dc-36594cc02b50"
      },
      "execution_count": null,
      "outputs": [
        {
          "output_type": "stream",
          "name": "stdout",
          "text": [
            "\n",
            "Clustering Analysis Report\n",
            "--------------------------\n",
            "Methodology:\n",
            "- Gaussian Mixture Models were used for clustering.\n",
            "- Data was preprocessed with scaling and one-hot encoding.\n",
            "\n",
            "Findings:\n",
            "- Cluster 0 represents customers with a high credit limit.\n",
            "- Cluster 1 represents customers with low activity.\n",
            "\n",
            "Recommendations:\n",
            "- Target Cluster 0 for premium service offerings.\n",
            "- Engage Cluster 1 with reactivation campaigns.\n",
            "\n",
            "Visualizations:\n",
            "- Attached as separate files or embedded in the document.\n",
            "\n",
            "Further Details:\n",
            "- See attached cluster profiles and decision-making notes.\n",
            "\n"
          ]
        }
      ]
    },
    {
      "cell_type": "markdown",
      "source": [
        "**Further Analysis or Model Refinement**"
      ],
      "metadata": {
        "id": "4A1yOeTVtHoc"
      }
    },
    {
      "cell_type": "code",
      "source": [
        "# If further analysis or model refinement is needed\n",
        "# This might involve re-running the clustering with different parameters\n",
        "for n_clusters in range(3, 8):  # Example: trying different numbers of clusters\n",
        "    gmm = GaussianMixture(n_components=n_clusters, random_state=0)\n",
        "    gmm.fit(data_preprocessed)\n",
        "    print(f\"Model with {n_clusters} clusters fitted.\")\n",
        "    # Evaluate and compare models here"
      ],
      "metadata": {
        "colab": {
          "base_uri": "https://localhost:8080/"
        },
        "id": "LES82wN8q5HG",
        "outputId": "e675cb23-6e6f-4451-ac23-a9e57787f1e8"
      },
      "execution_count": null,
      "outputs": [
        {
          "output_type": "stream",
          "name": "stdout",
          "text": [
            "Model with 3 clusters fitted.\n",
            "Model with 4 clusters fitted.\n",
            "Model with 5 clusters fitted.\n",
            "Model with 6 clusters fitted.\n",
            "Model with 7 clusters fitted.\n"
          ]
        }
      ]
    },
    {
      "cell_type": "markdown",
      "source": [
        "**Further Analysis (If Needed)**"
      ],
      "metadata": {
        "id": "DxTJXNXBtSiO"
      }
    },
    {
      "cell_type": "code",
      "source": [
        "# Further analysis or model refinement\n",
        "# Example: trying different numbers of clusters and comparing the silhouette score\n",
        "from sklearn.metrics import silhouette_score\n",
        "\n",
        "best_score = 0\n",
        "best_n_clusters = 0\n",
        "\n",
        "for n_clusters in range(2, 8):  # Example: trying a range of cluster numbers\n",
        "    gmm = GaussianMixture(n_components=n_clusters, random_state=0)\n",
        "    gmm.fit(data_preprocessed)\n",
        "    clusters = gmm.predict(data_preprocessed)\n",
        "    score = silhouette_score(data_preprocessed, clusters)\n",
        "\n",
        "    if score > best_score:\n",
        "        best_score = score\n",
        "        best_n_clusters = n_clusters\n",
        "\n",
        "    print(f\"Model with {n_clusters} clusters has a silhouette score of {score}.\")\n",
        "\n",
        "print(f\"Best model has {best_n_clusters} clusters with a silhouette score of {best_score}.\")\n"
      ],
      "metadata": {
        "colab": {
          "base_uri": "https://localhost:8080/"
        },
        "id": "g-ThERWMrWxj",
        "outputId": "6ea5c7cc-8f53-43d9-be60-ecee409a6ed6"
      },
      "execution_count": null,
      "outputs": [
        {
          "output_type": "stream",
          "name": "stdout",
          "text": [
            "Model with 2 clusters has a silhouette score of 0.21152114089673713.\n",
            "Model with 3 clusters has a silhouette score of 0.15994014327735304.\n",
            "Model with 4 clusters has a silhouette score of 0.10075544221469428.\n",
            "Model with 5 clusters has a silhouette score of 0.06137277627089513.\n",
            "Model with 6 clusters has a silhouette score of 0.017310372792418025.\n",
            "Model with 7 clusters has a silhouette score of 0.029800546044680274.\n",
            "Best model has 2 clusters with a silhouette score of 0.21152114089673713.\n"
          ]
        }
      ]
    },
    {
      "cell_type": "markdown",
      "source": [
        "**Final Reporting**"
      ],
      "metadata": {
        "id": "zYpO-YpvtFEF"
      }
    },
    {
      "cell_type": "code",
      "source": [
        "# Document Methodology and Findings\n",
        "methodology = \"\"\"\n",
        "Methodology:\n",
        "- StandardScaler for numerical features.\n",
        "- OneHotEncoder for categorical features.\n",
        "- Gaussian Mixture Model for clustering.\n",
        "\"\"\"\n",
        "findings = \"Clusters represent different customer segments based on credit limit, account age, etc.\"\n",
        "\n",
        "# Business Insights and Recommendations\n",
        "insights = \"Cluster 0 could be targeted with premium offers, while Cluster 1 might benefit from engagement initiatives.\"\n",
        "\n",
        "# Prepare Visualizations for Report\n",
        "# Generate and save visualizations as files\n",
        "for feature in ['Credit_Limit', 'Total_Revolving_Bal']:\n",
        "    plt.figure()\n",
        "    sns.barplot(x=centroid_df.index, y=centroid_df[feature])\n",
        "    plt.title(f'Feature {feature} across clusters')\n",
        "    plt.savefig(f'cluster_{feature}.png')\n",
        "\n",
        "# Executive Summary\n",
        "executive_summary = \"\"\"\n",
        "Executive Summary:\n",
        "- A clustering analysis was conducted to segment the customer base.\n",
        "- Key segments identified include high-value and low-engagement customers.\n",
        "- Recommendations include targeted marketing campaigns to leverage these insights.\n",
        "\"\"\"\n",
        "\n",
        "# Review and Edit\n",
        "# Have team members review the methodology, findings, insights, and executive summary."
      ],
      "metadata": {
        "colab": {
          "base_uri": "https://localhost:8080/",
          "height": 897
        },
        "id": "y-NSwXVEsG2H",
        "outputId": "5ecbfc85-05a0-4931-8bed-42cda4521cfa"
      },
      "execution_count": null,
      "outputs": [
        {
          "output_type": "display_data",
          "data": {
            "text/plain": [
              "<Figure size 640x480 with 1 Axes>"
            ],
            "image/png": "[encoded data removed]"
          },
          "metadata": {}
        },
        {
          "output_type": "display_data",
          "data": {
            "text/plain": [
              "<Figure size 640x480 with 1 Axes>"
            ],
            "image/png": "[encoded data removed]"
          },
          "metadata": {}
        }
      ]
    },
    {
      "cell_type": "markdown",
      "source": [
        "**Implementation and Action**"
      ],
      "metadata": {
        "id": "cAj3j-Xrs8zt"
      }
    },
    {
      "cell_type": "code",
      "source": [
        "# Present Findings\n",
        "# This would be a presentation or meeting rather than a code block\n",
        "\n",
        "# Plan for Action\n",
        "# Work with marketing to design campaigns based on clusters\n",
        "# Code block to prepare data files for different departments\n",
        "# Assuming 'data_sample' is the sampled data used for clustering and 'gmm' is your fitted Gaussian Mixture Model\n",
        "cluster_labels = gmm.predict(data_sample_preprocessed)  # Ensure this uses the same data that was used to fit 'gmm'\n",
        "\n",
        "# Code block to prepare data files for different departments\n",
        "for i in range(gmm.n_components):\n",
        "    cluster_customers = data_sample[cluster_labels == i]\n",
        "    # Save the subset of customers in the current cluster to a CSV file\n",
        "    cluster_customers.to_csv(f'cluster_{i}_customers.csv')\n",
        "\n",
        "\n",
        "# Monitor and Adapt\n",
        "# Set up code to monitor the performance of the actions taken\n",
        "# Example: Track customer engagement or sales data"
      ],
      "metadata": {
        "id": "ZviCs4hIsYvW"
      },
      "execution_count": null,
      "outputs": []
    }
  ]
}